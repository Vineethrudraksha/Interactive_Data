{
 "cells": [
  {
   "cell_type": "code",
   "execution_count": 1,
   "id": "8ae93df1",
   "metadata": {},
   "outputs": [],
   "source": [
    "import pandas as pd"
   ]
  },
  {
   "cell_type": "code",
   "execution_count": 2,
   "id": "c2e65507",
   "metadata": {},
   "outputs": [],
   "source": [
    "# Establish a DataFrame.\n",
    "data = {\n",
    "    'A': [5,6,7],\n",
    "    'B': ['rose','lotus','lilly'],\n",
    "    'C': [True, False, True]}"
   ]
  },
  {
   "cell_type": "code",
   "execution_count": 3,
   "id": "26c84d6e",
   "metadata": {},
   "outputs": [],
   "source": [
    "df = pd.DataFrame(data)"
   ]
  },
  {
   "cell_type": "code",
   "execution_count": 4,
   "id": "4ea1c4a9",
   "metadata": {},
   "outputs": [
    {
     "name": "stdout",
     "output_type": "stream",
     "text": [
      "Head of DataFrame:\n",
      "   A      B      C\n",
      "0  5   rose   True\n",
      "1  6  lotus  False\n",
      "2  7  lilly   True\n"
     ]
    }
   ],
   "source": [
    "# Examine the DataFrame's head\n",
    "print(\"Head of DataFrame:\")\n",
    "print(df.head())"
   ]
  },
  {
   "cell_type": "code",
   "execution_count": 5,
   "id": "37de60e6",
   "metadata": {},
   "outputs": [
    {
     "name": "stdout",
     "output_type": "stream",
     "text": [
      "\n",
      "Index of DataFrame:\n",
      "RangeIndex(start=0, stop=3, step=1)\n"
     ]
    }
   ],
   "source": [
    "# Examine the DataFrame's index\n",
    "print(\"\\nIndex of DataFrame:\")\n",
    "print(df.index)\n"
   ]
  },
  {
   "cell_type": "code",
   "execution_count": 6,
   "id": "60204f30",
   "metadata": {},
   "outputs": [
    {
     "name": "stdout",
     "output_type": "stream",
     "text": [
      "\n",
      "First column of DataFrame:\n",
      "0    5\n",
      "1    6\n",
      "2    7\n",
      "Name: A, dtype: int64\n"
     ]
    }
   ],
   "source": [
    "# Choose and examine the DataFrame's first column.\n",
    "print(\"\\nFirst column of DataFrame:\")\n",
    "print(df['A'])"
   ]
  },
  {
   "cell_type": "code",
   "execution_count": 7,
   "id": "8a77ab9c",
   "metadata": {},
   "outputs": [
    {
     "name": "stdout",
     "output_type": "stream",
     "text": [
      "\n",
      "First row of DataFrame:\n",
      "A       5\n",
      "B    rose\n",
      "C    True\n",
      "Name: 0, dtype: object\n"
     ]
    }
   ],
   "source": [
    "# Choose and display the DataFrame's top row.\n",
    "print(\"\\nFirst row of DataFrame:\")\n",
    "print(df.iloc[0])"
   ]
  },
  {
   "cell_type": "code",
   "execution_count": 8,
   "id": "2f26c2a8",
   "metadata": {},
   "outputs": [],
   "source": [
    "# Create a new CSV file with the DataFrame.\n",
    "df.to_csv('data.csv', index=False)"
   ]
  },
  {
   "cell_type": "markdown",
   "id": "55168a79",
   "metadata": {},
   "source": [
    "When communicating data, dynamic, interactive data visualizations are helpful because they have the following benefits:\\\n",
    "**Partnership**: By letting viewers explore the data for themselves, interactive visualizations engage viewers and improve knowledge and recall.\\\n",
    "**Adaptability**: With the help of dynamic visualizations, users can tailor the view to their preferences and concentrate on particular details or aspects that are important to them.\\\n",
    "**Discovery of insights**: Tooltips, zooming, and filtering are examples of interactive features that enable users to find patterns and insights that may not be visible in static visualizations.\\\n",
    "**Narrating**: Interactive visualizations can be incorporated into stories so that storytellers can lead the audience through the information, highlighting important details and aiding in understanding.\\\n",
    "All things considered, dynamic, interactive data visualizations improve communication through encouraging participation, adaptability, finding new insights, and strong storytelling."
   ]
  },
  {
   "cell_type": "code",
   "execution_count": null,
   "id": "796e5944",
   "metadata": {},
   "outputs": [],
   "source": []
  }
 ],
 "metadata": {
  "kernelspec": {
   "display_name": "Python 3 (ipykernel)",
   "language": "python",
   "name": "python3"
  },
  "language_info": {
   "codemirror_mode": {
    "name": "ipython",
    "version": 3
   },
   "file_extension": ".py",
   "mimetype": "text/x-python",
   "name": "python",
   "nbconvert_exporter": "python",
   "pygments_lexer": "ipython3",
   "version": "3.11.5"
  }
 },
 "nbformat": 4,
 "nbformat_minor": 5
}
