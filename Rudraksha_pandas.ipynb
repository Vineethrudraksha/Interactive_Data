{
 "cells": [
  {
   "cell_type": "code",
   "execution_count": 1,
   "id": "ee99db45",
   "metadata": {},
   "outputs": [],
   "source": [
    "import pandas as pd"
   ]
  },
  {
   "cell_type": "code",
   "execution_count": 2,
   "id": "27ed5678",
   "metadata": {},
   "outputs": [],
   "source": [
    "#Create a DataFrame with 3 columns and 3 rows\n",
    "data = {'ID': [1,2,3],\n",
    "        'Name': ['sai','vineeth','nitesh'],\n",
    "        'Section': ['A','B','C']}\n",
    "df = pd.DataFrame(data)"
   ]
  },
  {
   "cell_type": "code",
   "execution_count": 3,
   "id": "a5911649",
   "metadata": {},
   "outputs": [
    {
     "name": "stdout",
     "output_type": "stream",
     "text": [
      "   ID     Name Section\n",
      "0   1      sai       A\n",
      "1   2  vineeth       B\n",
      "2   3   nitesh       C\n"
     ]
    }
   ],
   "source": [
    "# View the head of the DataFrame\n",
    "print(df.head())"
   ]
  },
  {
   "cell_type": "code",
   "execution_count": 4,
   "id": "910d48fb",
   "metadata": {},
   "outputs": [
    {
     "name": "stdout",
     "output_type": "stream",
     "text": [
      "RangeIndex(start=0, stop=3, step=1)\n"
     ]
    }
   ],
   "source": [
    "# View the index of the DataFrame\n",
    "print(df.index)"
   ]
  },
  {
   "cell_type": "code",
   "execution_count": 5,
   "id": "9e37602e",
   "metadata": {},
   "outputs": [
    {
     "name": "stdout",
     "output_type": "stream",
     "text": [
      "0    1\n",
      "1    2\n",
      "2    3\n",
      "Name: ID, dtype: int64\n"
     ]
    }
   ],
   "source": [
    "# Select and view the first column of the DataFrame\n",
    "print(df['ID'])"
   ]
  },
  {
   "cell_type": "code",
   "execution_count": 6,
   "id": "24e3d0dd",
   "metadata": {},
   "outputs": [
    {
     "name": "stdout",
     "output_type": "stream",
     "text": [
      "ID           1\n",
      "Name       sai\n",
      "Section      A\n",
      "Name: 0, dtype: object\n"
     ]
    }
   ],
   "source": [
    "# Select and view the first row of the DataFrame\n",
    "print(df.iloc[0])\n"
   ]
  },
  {
   "cell_type": "code",
   "execution_count": 7,
   "id": "882d4436",
   "metadata": {},
   "outputs": [],
   "source": [
    "# Write the DataFrame to a new CSV file\n",
    "df.to_csv('Student_data.csv', index=False)"
   ]
  },
  {
   "cell_type": "markdown",
   "id": "83c7d656",
   "metadata": {},
   "source": [
    "Dynamic, interactive data visualizations have a number of benefits for efficient data communication, per Murray (2017) Chapter 1:\n",
    "\n",
    "* **Engagement and Exploration**: They get viewers involved by extending an invitation to study the information at their own pace. Deeper comprehension and a stronger sense of control over the insights result from this.\n",
    "\n",
    "* **Finding Hidden Patterns**: Interactive visualizations that let users filter, zoom in, and work with data in real time can help find patterns and relationships that static representations might have overlooked.\n",
    "\n",
    "* **Personalization and customization**: They address unique queries and interests, offering customized data views pertinent to particular requirements.\n",
    "\n",
    "* **Adaptability to Diverse Audiences**: They are accessible to a broader range of viewers due to their ability to accommodate varying degrees of expertise and familiarity with the data.\n",
    "\n",
    "* **Storytelling and narrative**: are powerful tools for guiding viewers through data-driven stories. They can do this by emphasizing important points and providing compelling, eye-catching evidence.\n",
    "\n",
    "*  **Retention and Memorability:** These interactive visualizations help people remember and engage with the information they present, which enhances memory retention."
   ]
  },
  {
   "cell_type": "code",
   "execution_count": null,
   "id": "a843ae17",
   "metadata": {},
   "outputs": [],
   "source": []
  }
 ],
 "metadata": {
  "kernelspec": {
   "display_name": "Python 3 (ipykernel)",
   "language": "python",
   "name": "python3"
  },
  "language_info": {
   "codemirror_mode": {
    "name": "ipython",
    "version": 3
   },
   "file_extension": ".py",
   "mimetype": "text/x-python",
   "name": "python",
   "nbconvert_exporter": "python",
   "pygments_lexer": "ipython3",
   "version": "3.11.5"
  }
 },
 "nbformat": 4,
 "nbformat_minor": 5
}
