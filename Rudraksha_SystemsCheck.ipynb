{
 "cells": [
  {
   "cell_type": "markdown",
   "id": "579eb02a",
   "metadata": {},
   "source": [
    "# H1 heading"
   ]
  },
  {
   "cell_type": "markdown",
   "id": "1fc258db",
   "metadata": {},
   "source": [
    "#### heading h4"
   ]
  },
  {
   "cell_type": "markdown",
   "id": "2c81727c",
   "metadata": {},
   "source": [
    "**bold** and *italic*"
   ]
  },
  {
   "cell_type": "markdown",
   "id": "c3fc0fb0",
   "metadata": {},
   "source": [
    "**Insightful Analysis of Real-World Data Sets**: Develop the ability to draw meaningful insights from messy, real-world data sets, demonstrating proficiency in *data analysis*.\n",
    "\n",
    "**Application of Regression-Based Statistical Learning Methods**: Understand and apply regression-based statistical learning methods for *data analysis*.\n",
    "\n",
    "**Ethical Use of Social and Behavioral Data**: Develop an ethical framework for accessing and using social and behavioral data, considering issues such as privacy, bias, and power dynamics.\n",
    "    "
   ]
  },
  {
   "cell_type": "code",
   "execution_count": 1,
   "id": "38c98678",
   "metadata": {},
   "outputs": [
    {
     "name": "stdout",
     "output_type": "stream",
     "text": [
      "54\n"
     ]
    }
   ],
   "source": [
    "# variable assignment\n",
    "v=54\n",
    "print(v)"
   ]
  },
  {
   "cell_type": "code",
   "execution_count": 2,
   "id": "ccf99603",
   "metadata": {},
   "outputs": [
    {
     "name": "stdout",
     "output_type": "stream",
     "text": [
      "warangal\n",
      "is\n",
      "No\n",
      "1\n"
     ]
    }
   ],
   "source": [
    "#for loop\n",
    "for i in [\"warangal\",\"is\",\"No\",1]:\n",
    "    print(i)"
   ]
  },
  {
   "cell_type": "code",
   "execution_count": 3,
   "id": "c05645b9",
   "metadata": {},
   "outputs": [
    {
     "name": "stdout",
     "output_type": "stream",
     "text": [
      "540\n"
     ]
    }
   ],
   "source": [
    "# a function with a print statement\n",
    "x=976540\n",
    "y=1000\n",
    "def remainder(x,y):\n",
    "    print(x%y)\n",
    "remainder(x,y)"
   ]
  },
  {
   "cell_type": "code",
   "execution_count": 4,
   "id": "25bd6228",
   "metadata": {},
   "outputs": [
    {
     "data": {
      "text/plain": [
       "540"
      ]
     },
     "execution_count": 4,
     "metadata": {},
     "output_type": "execute_result"
    }
   ],
   "source": [
    "# a function with a return statement\n",
    "x=976540\n",
    "y=1000\n",
    "def remainder_return(x,y):\n",
    "    return x%y\n",
    "remainder_return(x,y)"
   ]
  },
  {
   "cell_type": "code",
   "execution_count": null,
   "id": "a327783a",
   "metadata": {},
   "outputs": [],
   "source": []
  }
 ],
 "metadata": {
  "kernelspec": {
   "display_name": "Python 3 (ipykernel)",
   "language": "python",
   "name": "python3"
  },
  "language_info": {
   "codemirror_mode": {
    "name": "ipython",
    "version": 3
   },
   "file_extension": ".py",
   "mimetype": "text/x-python",
   "name": "python",
   "nbconvert_exporter": "python",
   "pygments_lexer": "ipython3",
   "version": "3.10.13"
  }
 },
 "nbformat": 4,
 "nbformat_minor": 5
}
